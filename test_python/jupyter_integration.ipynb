{
 "cells": [
  {
   "cell_type": "code",
   "execution_count": 1,
   "id": "73168132",
   "metadata": {
    "pycharm": {
     "name": "#%%\n"
    }
   },
   "outputs": [
    {
     "name": "stdout",
     "output_type": "stream",
     "text": [
      "['/home/konsti/monotrail/test_python', '/home/konsti/monotrail', '/home/konsti/monotrail/tests', '/home/konsti/monotrail/install-wheel-rs/src', '/usr/lib/python38.zip', '/usr/lib/python3.8', '/usr/lib/python3.8/lib-dynload', '', '/home/konsti/monotrail/.venv/lib/python3.8/site-packages']\n"
     ]
    }
   ],
   "source": [
    "import os\n",
    "import sys\n",
    "# remove how pycharm messed with the path, otherwise poetry will be a namespace import\n",
    "sys.path = list(filter(lambda x: not x.endswith(\"/monotrail/src\"), sys.path))\n",
    "print(sys.path)\n",
    "\n",
    "#os.environ[\"RUST_LOG\"]=\"debug\"\n",
    "\n",
    "try:\n",
    "    import numpy\n",
    "\n",
    "    assert False, \"numpy should not be available\"\n",
    "except ModuleNotFoundError:\n",
    "    pass\n",
    "\n",
    "try:\n",
    "    import pandas\n",
    "\n",
    "    assert False, \"pandas should not be available\"\n",
    "except ModuleNotFoundError:\n",
    "    pass"
   ]
  },
  {
   "cell_type": "code",
   "execution_count": 2,
   "id": "d59dea41",
   "metadata": {
    "pycharm": {
     "name": "#%%\n"
    }
   },
   "outputs": [
    {
     "name": "stdout",
     "output_type": "stream",
     "text": [
      "Updating dependencies\n",
      "Resolving dependencies...\n",
      "\n",
      "Writing lock file\n"
     ]
    }
   ],
   "source": [
    "import monotrail\n",
    "\n",
    "monotrail.interactive(numpy=\"^1.21\")"
   ]
  },
  {
   "cell_type": "code",
   "execution_count": 4,
   "id": "58f33fd7",
   "metadata": {
    "pycharm": {
     "name": "#%%\n"
    }
   },
   "outputs": [],
   "source": [
    "import numpy\n",
    "\n",
    "try:\n",
    "    import pandas\n",
    "\n",
    "    assert False, \"pandas should not be available\"\n",
    "except ModuleNotFoundError:\n",
    "    pass"
   ]
  },
  {
   "cell_type": "code",
   "execution_count": 5,
   "id": "e309b9d0",
   "metadata": {
    "pycharm": {
     "name": "#%%\n"
    }
   },
   "outputs": [
    {
     "name": "stdout",
     "output_type": "stream",
     "text": [
      "Resolving dependencies...\n",
      "\n",
      "Writing lock file\n"
     ]
    }
   ],
   "source": [
    "monotrail.interactive(numpy=\"^1.21\", pandas=\"^1\")"
   ]
  },
  {
   "cell_type": "code",
   "execution_count": 6,
   "id": "baac8f50",
   "metadata": {
    "pycharm": {
     "name": "#%%\n"
    }
   },
   "outputs": [],
   "source": [
    "import numpy\n",
    "import pandas"
   ]
  }
 ],
 "metadata": {
  "language_info": {
   "name": "python"
  }
 },
 "nbformat": 4,
 "nbformat_minor": 5
}