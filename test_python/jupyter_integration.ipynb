{
 "cells": [
  {
   "cell_type": "code",
   "execution_count": 1,
   "id": "73168132",
   "metadata": {
    "collapsed": false,
    "execution": {
     "iopub.execute_input": "2022-05-02T20:54:40.905392Z",
     "iopub.status.busy": "2022-05-02T20:54:40.904678Z",
     "iopub.status.idle": "2022-05-02T20:54:40.930475Z",
     "shell.execute_reply": "2022-05-02T20:54:40.928452Z"
    },
    "pycharm": {
     "name": "#%%\n"
    }
   },
   "outputs": [],
   "source": [
    "try:\n",
    "    import numpy\n",
    "\n",
    "    assert False, \"numpy should not be available\"\n",
    "except ModuleNotFoundError:\n",
    "    pass\n",
    "\n",
    "try:\n",
    "    import pandas\n",
    "\n",
    "    assert False, \"pandas should not be available\"\n",
    "except ModuleNotFoundError:\n",
    "    pass"
   ]
  },
  {
   "cell_type": "code",
   "execution_count": 2,
   "id": "d59dea41",
   "metadata": {
    "collapsed": false,
    "execution": {
     "iopub.execute_input": "2022-05-02T20:54:40.939319Z",
     "iopub.status.busy": "2022-05-02T20:54:40.938669Z",
     "iopub.status.idle": "2022-05-02T20:54:41.924823Z",
     "shell.execute_reply": "2022-05-02T20:54:41.924251Z"
    },
    "pycharm": {
     "name": "#%%\n"
    }
   },
   "outputs": [
    {
     "name": "stdout",
     "output_type": "stream",
     "text": [
      "Updating dependencies\n",
      "Resolving dependencies...\n",
      "\n",
      "Writing lock file\n"
     ]
    }
   ],
   "source": [
    "import monotrail\n",
    "\n",
    "monotrail.interactive(numpy=\"^1.21\")"
   ]
  },
  {
   "cell_type": "code",
   "execution_count": 3,
   "id": "58f33fd7",
   "metadata": {
    "collapsed": false,
    "execution": {
     "iopub.execute_input": "2022-05-02T20:54:41.927449Z",
     "iopub.status.busy": "2022-05-02T20:54:41.927149Z",
     "iopub.status.idle": "2022-05-02T20:54:41.989304Z",
     "shell.execute_reply": "2022-05-02T20:54:41.988797Z"
    },
    "pycharm": {
     "name": "#%%\n"
    }
   },
   "outputs": [],
   "source": [
    "import numpy\n",
    "\n",
    "try:\n",
    "    import pandas\n",
    "\n",
    "    assert False, \"pandas should not be available\"\n",
    "except ModuleNotFoundError:\n",
    "    pass"
   ]
  },
  {
   "cell_type": "code",
   "execution_count": 4,
   "id": "e309b9d0",
   "metadata": {
    "execution": {
     "iopub.execute_input": "2022-05-02T20:54:41.993321Z",
     "iopub.status.busy": "2022-05-02T20:54:41.992473Z",
     "iopub.status.idle": "2022-05-02T20:54:43.387655Z",
     "shell.execute_reply": "2022-05-02T20:54:43.387008Z"
    },
    "pycharm": {
     "name": "#%%\n"
    }
   },
   "outputs": [
    {
     "name": "stdout",
     "output_type": "stream",
     "text": [
      "Updating dependencies\n",
      "Resolving dependencies...\n",
      "\n",
      "Writing lock file\n"
     ]
    }
   ],
   "source": [
    "monotrail.interactive(numpy=\"^1.21\", pandas=\"^1\")"
   ]
  },
  {
   "cell_type": "code",
   "execution_count": 5,
   "id": "baac8f50",
   "metadata": {
    "execution": {
     "iopub.execute_input": "2022-05-02T20:54:43.390195Z",
     "iopub.status.busy": "2022-05-02T20:54:43.389984Z",
     "iopub.status.idle": "2022-05-02T20:54:43.554145Z",
     "shell.execute_reply": "2022-05-02T20:54:43.553602Z"
    },
    "pycharm": {
     "name": "#%%\n"
    }
   },
   "outputs": [],
   "source": [
    "import numpy\n",
    "import pandas"
   ]
  }
 ],
 "metadata": {
  "kernelspec": {
   "display_name": "Python 3 (ipykernel)",
   "language": "python",
   "name": "python3"
  },
  "language_info": {
   "codemirror_mode": {
    "name": "ipython",
    "version": 3
   },
   "file_extension": ".py",
   "mimetype": "text/x-python",
   "name": "python",
   "nbconvert_exporter": "python",
   "pygments_lexer": "ipython3",
   "version": "3.8.10"
  }
 },
 "nbformat": 4,
 "nbformat_minor": 5
}