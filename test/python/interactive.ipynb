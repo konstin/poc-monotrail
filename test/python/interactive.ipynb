{
 "cells": [
  {
   "cell_type": "code",
   "execution_count": null,
   "id": "ebc9f71f",
   "metadata": {},
   "outputs": [],
   "source": [
    "import monotrail\n",
    "\n",
    "monotrail.interactive(numpy=\"^1.21\")"
   ]
  },
  {
   "cell_type": "code",
   "execution_count": null,
   "id": "58f33fd7",
   "metadata": {},
   "outputs": [],
   "source": [
    "import numpy\n",
    "\n",
    "try:\n",
    "    import pandas\n",
    "\n",
    "    assert False, \"pandas should not be available\"\n",
    "except ModuleNotFoundError:\n",
    "    pass"
   ]
  },
  {
   "cell_type": "code",
   "execution_count": null,
   "id": "e309b9d0",
   "metadata": {},
   "outputs": [],
   "source": [
    "monotrail.interactive(numpy=\"^1.21\", pandas=\"^1\")"
   ]
  },
  {
   "cell_type": "code",
   "execution_count": null,
   "id": "baac8f50",
   "metadata": {},
   "outputs": [],
   "source": [
    "import numpy\n",
    "import pandas\n",
    "\n",
    "print(numpy.__version__, pandas.__version__)"
   ]
  }
 ],
 "metadata": {
  "language_info": {
   "name": "python"
  }
 },
 "nbformat": 4,
 "nbformat_minor": 5
}
