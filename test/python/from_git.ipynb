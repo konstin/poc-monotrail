{
 "cells": [
  {
   "cell_type": "code",
   "execution_count": null,
   "id": "5f3fe2e3",
   "metadata": {
    "pycharm": {
     "name": "#%%\n"
    }
   },
   "outputs": [],
   "source": [
    "import os\n",
    "import sys\n",
    "\n",
    "# remove how pycharm messed with the path, otherwise poetry will be a namespace import\n",
    "sys.path = list(filter(lambda x: not x.endswith(\"/monotrail/src\"), sys.path))\n",
    "# print(sys.path)\n",
    "\n",
    "# os.environ[\"RUST_LOG\"]=\"debug\""
   ]
  },
  {
   "cell_type": "code",
   "execution_count": null,
   "id": "73168132",
   "metadata": {
    "pycharm": {
     "name": "#%%\n"
    }
   },
   "outputs": [],
   "source": [
    "try:\n",
    "    import django\n",
    "\n",
    "    assert False, \"django should not be available\"\n",
    "except ModuleNotFoundError:\n",
    "    pass\n",
    "\n",
    "try:\n",
    "    import mainapp\n",
    "\n",
    "    assert False, \"mainapp should not be available\"\n",
    "except ModuleNotFoundError:\n",
    "    pass"
   ]
  },
  {
   "cell_type": "code",
   "execution_count": null,
   "id": "1882bc0a",
   "metadata": {
    "pycharm": {
     "name": "#%%\n"
    }
   },
   "outputs": [],
   "source": [
    "import monotrail\n",
    "\n",
    "monotrail.from_git(\n",
    "    \"https://github.com/meine-stadt-transparent/meine-stadt-transparent\",\n",
    "    \"3b4b5e4b027a96fd08147fc57b53f078a44a00a7\",\n",
    ")"
   ]
  },
  {
   "cell_type": "code",
   "execution_count": null,
   "id": "dd09a102",
   "metadata": {
    "pycharm": {
     "name": "#%%\n"
    }
   },
   "outputs": [],
   "source": [
    "import django\n",
    "\n",
    "print(django.__version__)\n",
    "import mainapp\n",
    "\n",
    "print(mainapp.__name__)"
   ]
  }
 ],
 "metadata": {
  "language_info": {
   "name": "python"
  }
 },
 "nbformat": 4,
 "nbformat_minor": 5
}