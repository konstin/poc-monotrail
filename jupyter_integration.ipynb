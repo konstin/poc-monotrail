{
 "cells": [
  {
   "cell_type": "code",
   "execution_count": null,
   "outputs": [],
   "source": [
    "try:\n",
    "    import numpy\n",
    "\n",
    "    assert False, \"numpy should not be available\"\n",
    "except ModuleNotFoundError:\n",
    "    pass\n",
    "\n",
    "try:\n",
    "    import pandas\n",
    "\n",
    "    assert False, \"pandas should not be available\"\n",
    "except ModuleNotFoundError:\n",
    "    pass"
   ],
   "metadata": {
    "collapsed": false,
    "pycharm": {
     "name": "#%%\n"
    }
   }
  },
  {
   "cell_type": "code",
   "execution_count": null,
   "outputs": [],
   "source": [
    "import monotrail\n",
    "\n",
    "monotrail.interactive(numpy=\"^1.21\")"
   ],
   "metadata": {
    "collapsed": false,
    "pycharm": {
     "name": "#%%\n"
    }
   }
  },
  {
   "cell_type": "code",
   "execution_count": null,
   "outputs": [],
   "source": [
    "import numpy\n",
    "\n",
    "try:\n",
    "    import pandas\n",
    "\n",
    "    assert False, \"pandas should not be available\"\n",
    "except ModuleNotFoundError:\n",
    "    pass"
   ],
   "metadata": {
    "collapsed": false,
    "pycharm": {
     "name": "#%%\n"
    }
   }
  },
  {
   "cell_type": "code",
   "execution_count": 4,
   "id": "e309b9d0",
   "metadata": {
    "execution": {
     "iopub.execute_input": "2022-05-02T14:50:29.699425Z",
     "iopub.status.busy": "2022-05-02T14:50:29.698124Z",
     "iopub.status.idle": "2022-05-02T14:50:31.112329Z",
     "shell.execute_reply": "2022-05-02T14:50:31.111572Z"
    },
    "pycharm": {
     "name": "#%%\n"
    }
   },
   "outputs": [
    {
     "name": "stdout",
     "output_type": "stream",
     "text": [
      "Updating dependencies\n",
      "Resolving dependencies...\n",
      "\n",
      "Writing lock file\n"
     ]
    }
   ],
   "source": [
    "monotrail.interactive(numpy=\"^1.21\", pandas=\"^1\")"
   ]
  },
  {
   "cell_type": "code",
   "execution_count": 5,
   "id": "baac8f50",
   "metadata": {
    "execution": {
     "iopub.execute_input": "2022-05-02T14:50:31.115769Z",
     "iopub.status.busy": "2022-05-02T14:50:31.115524Z",
     "iopub.status.idle": "2022-05-02T14:50:31.371053Z",
     "shell.execute_reply": "2022-05-02T14:50:31.370326Z"
    },
    "pycharm": {
     "name": "#%%\n"
    }
   },
   "outputs": [],
   "source": [
    "import numpy\n",
    "import pandas"
   ]
  }
 ],
 "metadata": {
  "kernelspec": {
   "display_name": "Python 3 (ipykernel)",
   "language": "python",
   "name": "python3"
  },
  "language_info": {
   "codemirror_mode": {
    "name": "ipython",
    "version": 3
   },
   "file_extension": ".py",
   "mimetype": "text/x-python",
   "name": "python",
   "nbconvert_exporter": "python",
   "pygments_lexer": "ipython3",
   "version": "3.8.10"
  }
 },
 "nbformat": 4,
 "nbformat_minor": 5
}